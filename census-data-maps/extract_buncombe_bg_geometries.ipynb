{
 "cells": [
  {
   "cell_type": "markdown",
   "metadata": {},
   "source": [
    "# Code to access and store Shape Files for Buncombe County"
   ]
  },
  {
   "cell_type": "markdown",
   "metadata": {},
   "source": [
    "## Notes\n",
    "09-06-18: on collier machine this works with anaconda geospatial env (source activate geospatial)\n",
    "\n"
   ]
  },
  {
   "cell_type": "code",
   "execution_count": 9,
   "metadata": {},
   "outputs": [],
   "source": [
    "import matplotlib.pyplot as plt\n",
    "import geopandas as gpd\n",
    "import pandas as pd\n",
    "import numpy as np\n",
    "from urllib2 import urlopen\n",
    "from zipfile import ZipFile\n",
    "from io import BytesIO\n",
    "import shapefile\n",
    "from shapely.geometry import shape\n",
    "from json import dumps\n",
    "import osr\n",
    "import sys\n",
    "import os"
   ]
  },
  {
   "cell_type": "markdown",
   "metadata": {},
   "source": [
    "### grab the shape files off the web"
   ]
  },
  {
   "cell_type": "code",
   "execution_count": 10,
   "metadata": {},
   "outputs": [],
   "source": [
    "zipped_shp_url = 'http://www2.census.gov/geo/tiger/GENZ2015/shp/cb_2015_37_bg_500k.zip'\n",
    "\n",
    "zipfile = ZipFile(BytesIO(urlopen(zipped_shp_url).read()))\n",
    "filenames = [y for y in sorted(zipfile.namelist()) for ending in ['dbf', 'prj', 'shp', 'shx'] if y.endswith(ending)] \n",
    "dbf, prj, shp, shx = [BytesIO(zipfile.read(filename)) for filename in filenames]\n",
    "r = shapefile.Reader(shp=shp, shx=shx, dbf=dbf)\n",
    "    \n",
    "attributes, geometry = [], []\n",
    "field_names = [field[0] for field in r.fields[1:]]  \n",
    "for row in r.shapeRecords():  \n",
    "    geometry.append(shape(row.shape.__geo_interface__))  \n",
    "    attributes.append(dict(zip(field_names, row.record)))  "
   ]
  },
  {
   "cell_type": "code",
   "execution_count": 11,
   "metadata": {},
   "outputs": [
    {
     "data": {
      "text/plain": [
       "'this projection is +proj=longlat +ellps=GRS80 +no_defs '"
      ]
     },
     "execution_count": 11,
     "metadata": {},
     "output_type": "execute_result"
    }
   ],
   "source": [
    "proj4_string = osr.SpatialReference(prj.read()).ExportToProj4()\n",
    "'this projection is {0}'.format(proj4_string)"
   ]
  },
  {
   "cell_type": "markdown",
   "metadata": {},
   "source": [
    "### make it into a geopandas dataframe"
   ]
  },
  {
   "cell_type": "code",
   "execution_count": 12,
   "metadata": {},
   "outputs": [],
   "source": [
    "all_nc_tract_geo = gpd.GeoDataFrame(data = attributes, geometry = geometry, crs = proj4_string)"
   ]
  },
  {
   "cell_type": "code",
   "execution_count": 13,
   "metadata": {},
   "outputs": [
    {
     "data": {
      "text/html": [
       "<div>\n",
       "<style>\n",
       "    .dataframe thead tr:only-child th {\n",
       "        text-align: right;\n",
       "    }\n",
       "\n",
       "    .dataframe thead th {\n",
       "        text-align: left;\n",
       "    }\n",
       "\n",
       "    .dataframe tbody tr th {\n",
       "        vertical-align: top;\n",
       "    }\n",
       "</style>\n",
       "<table border=\"1\" class=\"dataframe\">\n",
       "  <thead>\n",
       "    <tr style=\"text-align: right;\">\n",
       "      <th></th>\n",
       "      <th>AFFGEOID</th>\n",
       "      <th>ALAND</th>\n",
       "      <th>AWATER</th>\n",
       "      <th>BLKGRPCE</th>\n",
       "      <th>COUNTYFP</th>\n",
       "      <th>GEOID</th>\n",
       "      <th>LSAD</th>\n",
       "      <th>NAME</th>\n",
       "      <th>STATEFP</th>\n",
       "      <th>TRACTCE</th>\n",
       "      <th>geometry</th>\n",
       "    </tr>\n",
       "    <tr>\n",
       "      <th>GEOID</th>\n",
       "      <th></th>\n",
       "      <th></th>\n",
       "      <th></th>\n",
       "      <th></th>\n",
       "      <th></th>\n",
       "      <th></th>\n",
       "      <th></th>\n",
       "      <th></th>\n",
       "      <th></th>\n",
       "      <th></th>\n",
       "      <th></th>\n",
       "    </tr>\n",
       "  </thead>\n",
       "  <tbody>\n",
       "    <tr>\n",
       "      <th>370210003002</th>\n",
       "      <td>1500000US370210003002</td>\n",
       "      <td>461349</td>\n",
       "      <td>0</td>\n",
       "      <td>2</td>\n",
       "      <td>021</td>\n",
       "      <td>370210003002</td>\n",
       "      <td>BG</td>\n",
       "      <td>2</td>\n",
       "      <td>37</td>\n",
       "      <td>000300</td>\n",
       "      <td>POLYGON ((-82.56777 35.606625, -82.564109 35.6...</td>\n",
       "    </tr>\n",
       "    <tr>\n",
       "      <th>370210019001</th>\n",
       "      <td>1500000US370210019001</td>\n",
       "      <td>2416732</td>\n",
       "      <td>17389</td>\n",
       "      <td>1</td>\n",
       "      <td>021</td>\n",
       "      <td>370210019001</td>\n",
       "      <td>BG</td>\n",
       "      <td>1</td>\n",
       "      <td>37</td>\n",
       "      <td>001900</td>\n",
       "      <td>POLYGON ((-82.502804 35.58734, -82.501977 35.5...</td>\n",
       "    </tr>\n",
       "    <tr>\n",
       "      <th>370210022042</th>\n",
       "      <td>1500000US370210022042</td>\n",
       "      <td>2191343</td>\n",
       "      <td>4393</td>\n",
       "      <td>2</td>\n",
       "      <td>021</td>\n",
       "      <td>370210022042</td>\n",
       "      <td>BG</td>\n",
       "      <td>2</td>\n",
       "      <td>37</td>\n",
       "      <td>002204</td>\n",
       "      <td>POLYGON ((-82.536917 35.509338, -82.537559 35....</td>\n",
       "    </tr>\n",
       "    <tr>\n",
       "      <th>370210005003</th>\n",
       "      <td>1500000US370210005003</td>\n",
       "      <td>1999352</td>\n",
       "      <td>0</td>\n",
       "      <td>3</td>\n",
       "      <td>021</td>\n",
       "      <td>370210005003</td>\n",
       "      <td>BG</td>\n",
       "      <td>3</td>\n",
       "      <td>37</td>\n",
       "      <td>000500</td>\n",
       "      <td>POLYGON ((-82.554647 35.623198, -82.5539359999...</td>\n",
       "    </tr>\n",
       "    <tr>\n",
       "      <th>370210012003</th>\n",
       "      <td>1500000US370210012003</td>\n",
       "      <td>606041</td>\n",
       "      <td>0</td>\n",
       "      <td>3</td>\n",
       "      <td>021</td>\n",
       "      <td>370210012003</td>\n",
       "      <td>BG</td>\n",
       "      <td>3</td>\n",
       "      <td>37</td>\n",
       "      <td>001200</td>\n",
       "      <td>POLYGON ((-82.60565199999999 35.573349, -82.60...</td>\n",
       "    </tr>\n",
       "  </tbody>\n",
       "</table>\n",
       "</div>"
      ],
      "text/plain": [
       "                           AFFGEOID    ALAND  AWATER BLKGRPCE COUNTYFP  \\\n",
       "GEOID                                                                    \n",
       "370210003002  1500000US370210003002   461349       0        2      021   \n",
       "370210019001  1500000US370210019001  2416732   17389        1      021   \n",
       "370210022042  1500000US370210022042  2191343    4393        2      021   \n",
       "370210005003  1500000US370210005003  1999352       0        3      021   \n",
       "370210012003  1500000US370210012003   606041       0        3      021   \n",
       "\n",
       "                     GEOID LSAD NAME STATEFP TRACTCE  \\\n",
       "GEOID                                                  \n",
       "370210003002  370210003002   BG    2      37  000300   \n",
       "370210019001  370210019001   BG    1      37  001900   \n",
       "370210022042  370210022042   BG    2      37  002204   \n",
       "370210005003  370210005003   BG    3      37  000500   \n",
       "370210012003  370210012003   BG    3      37  001200   \n",
       "\n",
       "                                                       geometry  \n",
       "GEOID                                                            \n",
       "370210003002  POLYGON ((-82.56777 35.606625, -82.564109 35.6...  \n",
       "370210019001  POLYGON ((-82.502804 35.58734, -82.501977 35.5...  \n",
       "370210022042  POLYGON ((-82.536917 35.509338, -82.537559 35....  \n",
       "370210005003  POLYGON ((-82.554647 35.623198, -82.5539359999...  \n",
       "370210012003  POLYGON ((-82.60565199999999 35.573349, -82.60...  "
      ]
     },
     "execution_count": 13,
     "metadata": {},
     "output_type": "execute_result"
    }
   ],
   "source": [
    "buncombe_tract_geo = all_nc_tract_geo[all_nc_tract_geo.COUNTYFP=='021']\n",
    "buncombe_tract_geo.index = buncombe_tract_geo['GEOID']\n",
    "buncombe_tract_geo.head()"
   ]
  },
  {
   "cell_type": "markdown",
   "metadata": {},
   "source": [
    "### Save the result\n",
    "NOTE: we must save this as a geospatial file!"
   ]
  },
  {
   "cell_type": "code",
   "execution_count": 14,
   "metadata": {},
   "outputs": [],
   "source": [
    "#make sure directory exists to store shapefiles\n",
    "if not os.path.isdir('shape_file_dir'):\n",
    "   !mkdir shape_file_dir "
   ]
  },
  {
   "cell_type": "code",
   "execution_count": 15,
   "metadata": {},
   "outputs": [],
   "source": [
    "buncombe_tract_geo.to_file(driver = 'ESRI Shapefile', filename= \"./shape_file_dir/buncombe_bg.shp\")"
   ]
  },
  {
   "cell_type": "markdown",
   "metadata": {},
   "source": [
    "### make geojson version of shapefiles"
   ]
  },
  {
   "cell_type": "code",
   "execution_count": 16,
   "metadata": {},
   "outputs": [],
   "source": [
    "# read the shapefile\n",
    "reader = shapefile.Reader(\"./shape_file_dir/buncombe_bg.shp\")\n",
    "fields = reader.fields[1:]\n",
    "field_names = [field[0] for field in fields]\n",
    "buffer = []\n",
    "for sr in reader.shapeRecords():\n",
    "    atr = dict(zip(field_names, sr.record))\n",
    "    geom = sr.shape.__geo_interface__\n",
    "    buffer.append(dict(type=\"Feature\", \\\n",
    "    geometry=geom, properties=atr)) \n",
    " "
   ]
  },
  {
   "cell_type": "code",
   "execution_count": 19,
   "metadata": {},
   "outputs": [],
   "source": [
    "#make sure directory exists to store geojson files\n",
    "if not os.path.isdir('geojson_file_dir'):\n",
    "   !mkdir geojson_file_dir "
   ]
  },
  {
   "cell_type": "code",
   "execution_count": 20,
   "metadata": {},
   "outputs": [],
   "source": [
    "# write the GeoJSON file\n",
    "geojson = open(\"geojson_file_dir/buncombe_bg.json\", \"w\")\n",
    "geojson.write(dumps({\"type\": \"FeatureCollection\",\\\n",
    "    \"features\": buffer}, indent=2) + \"\\n\")\n",
    "geojson.close()"
   ]
  },
  {
   "cell_type": "code",
   "execution_count": null,
   "metadata": {},
   "outputs": [],
   "source": []
  }
 ],
 "metadata": {
  "kernelspec": {
   "display_name": "Python 2",
   "language": "python",
   "name": "python2"
  },
  "language_info": {
   "codemirror_mode": {
    "name": "ipython",
    "version": 2
   },
   "file_extension": ".py",
   "mimetype": "text/x-python",
   "name": "python",
   "nbconvert_exporter": "python",
   "pygments_lexer": "ipython2",
   "version": "2.7.15"
  }
 },
 "nbformat": 4,
 "nbformat_minor": 2
}
